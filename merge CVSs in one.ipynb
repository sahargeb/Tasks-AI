{
 "cells": [
  {
   "cell_type": "code",
   "execution_count": 1,
   "id": "b2fb5cd3",
   "metadata": {},
   "outputs": [],
   "source": [
    "#Task> Append data to exist csv / excel file \n",
    "# importing libraries\n",
    "import pandas as pd\n",
    "import glob\n",
    "import os"
   ]
  },
  {
   "cell_type": "code",
   "execution_count": 2,
   "id": "e9e33ac3",
   "metadata": {},
   "outputs": [
    {
     "name": "stdout",
     "output_type": "stream",
     "text": [
      "<class 'pandas.core.frame.DataFrame'>\n",
      "RangeIndex: 22 entries, 0 to 21\n",
      "Data columns (total 4 columns):\n",
      " #   Column    Non-Null Count  Dtype  \n",
      "---  ------    --------------  -----  \n",
      " 0   Duration  22 non-null     int64  \n",
      " 1   Pulse     22 non-null     int64  \n",
      " 2   Maxpulse  22 non-null     int64  \n",
      " 3   Calories  21 non-null     float64\n",
      "dtypes: float64(1), int64(3)\n",
      "memory usage: 832.0 bytes\n",
      "None\n",
      "<class 'pandas.core.frame.DataFrame'>\n",
      "RangeIndex: 8 entries, 0 to 7\n",
      "Data columns (total 4 columns):\n",
      " #   Column    Non-Null Count  Dtype  \n",
      "---  ------    --------------  -----  \n",
      " 0   Duration  8 non-null      int64  \n",
      " 1   Pulse     8 non-null      int64  \n",
      " 2   Maxpulse  8 non-null      int64  \n",
      " 3   Calories  8 non-null      float64\n",
      "dtypes: float64(1), int64(3)\n",
      "memory usage: 384.0 bytes\n",
      "None\n"
     ]
    }
   ],
   "source": [
    "df = pd.read_csv('data.csv')\n",
    "df2 = pd.read_csv('datat.csv')\n",
    "print(df.info())\n",
    "print(df2.info()) "
   ]
  },
  {
   "cell_type": "code",
   "execution_count": 3,
   "id": "fb60db6d",
   "metadata": {},
   "outputs": [],
   "source": [
    "joined_files = os.path.join(\"datat\", \"data*.csv\")"
   ]
  },
  {
   "cell_type": "code",
   "execution_count": 4,
   "id": "d58fde44",
   "metadata": {},
   "outputs": [],
   "source": [
    "joined_list = glob.glob(joined_files)"
   ]
  },
  {
   "cell_type": "code",
   "execution_count": 5,
   "id": "282b231a",
   "metadata": {
    "scrolled": true
   },
   "outputs": [
    {
     "name": "stdout",
     "output_type": "stream",
     "text": [
      "    Duration  Pulse  Maxpulse  Calories\n",
      "0         60    110       130     409.1\n",
      "1         60    117       145     479.0\n",
      "2         60    103       135     340.0\n",
      "3         45    109       175     282.4\n",
      "4         45    117       148     406.0\n",
      "5         60    102       127     300.0\n",
      "6         60    110       136     374.0\n",
      "7         45    104       134     253.3\n",
      "8         30    109       133     195.1\n",
      "9         60     98       124     269.0\n",
      "10        60    103       147     329.3\n",
      "11        60    100       120     250.7\n",
      "12        60    106       128     345.3\n",
      "13        60    104       132     379.3\n",
      "14        60     98       123     275.0\n",
      "15        60     98       120     215.2\n",
      "16        60    100       120     300.0\n",
      "17        45     90       112       NaN\n",
      "18        60    103       123     323.0\n",
      "19        45     97       125     243.0\n",
      "20        60    108       131     364.2\n",
      "21        45    100       119     282.0\n",
      "22        60    110       130     409.1\n",
      "23        60    117       145     479.0\n",
      "24        60    103       135     340.0\n",
      "25        45    109       175     282.4\n",
      "26        45    117       148     406.0\n",
      "27        60    102       127     300.0\n",
      "28        60    110       136     374.0\n",
      "29        45    104       134     253.3\n",
      "<class 'pandas.core.frame.DataFrame'>\n",
      "RangeIndex: 30 entries, 0 to 29\n",
      "Data columns (total 4 columns):\n",
      " #   Column    Non-Null Count  Dtype  \n",
      "---  ------    --------------  -----  \n",
      " 0   Duration  30 non-null     int64  \n",
      " 1   Pulse     30 non-null     int64  \n",
      " 2   Maxpulse  30 non-null     int64  \n",
      " 3   Calories  29 non-null     float64\n",
      "dtypes: float64(1), int64(3)\n",
      "memory usage: 1.1 KB\n",
      "None\n"
     ]
    }
   ],
   "source": [
    "df4 = pd.concat(\n",
    "    map(pd.read_csv, ['data.csv', 'datat.csv']), ignore_index=True)\n",
    "print(df4)\n",
    "print(df4.info()) "
   ]
  },
  {
   "cell_type": "code",
   "execution_count": null,
   "id": "f5125210",
   "metadata": {},
   "outputs": [],
   "source": []
  }
 ],
 "metadata": {
  "kernelspec": {
   "display_name": "Python 3",
   "language": "python",
   "name": "python3"
  },
  "language_info": {
   "codemirror_mode": {
    "name": "ipython",
    "version": 3
   },
   "file_extension": ".py",
   "mimetype": "text/x-python",
   "name": "python",
   "nbconvert_exporter": "python",
   "pygments_lexer": "ipython3",
   "version": "3.8.8"
  }
 },
 "nbformat": 4,
 "nbformat_minor": 5
}
